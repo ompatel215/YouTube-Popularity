{
 "cells": [
  {
   "cell_type": "markdown",
   "metadata": {},
   "source": [
    "# Notebook 05: Model Evaluation and Visualization\n",
    "\n",
    "## Objective\n",
    "Evaluate both models and create comprehensive visualizations:\n",
    "1. Model performance comparison\n",
    "2. Prediction accuracy plots\n",
    "3. Residual analysis\n",
    "4. Feature importance rankings\n",
    "5. Engagement trend analysis"
   ]
  },
  {
   "cell_type": "code",
   "execution_count": null,
   "metadata": {},
   "outputs": [],
   "source": [
    "import sys\n",
    "import os\n",
    "\n",
    "# Add source directory to path\n",
    "sys.path.append(os.path.abspath(os.path.join(os.getcwd(), '..')))\n",
    "\n",
    "from src import evaluate\n",
    "import matplotlib.pyplot as plt\n",
    "\n",
    "print(\"=\"*80)\n",
    "print(\"MODEL EVALUATION & VISUALIZATION\")\n",
    "print(\"=\"*80)"
   ]
  },
  {
   "cell_type": "markdown",
   "metadata": {},
   "source": [
    "## Generate Full Evaluation Report\n",
    "\n",
    "This generates all 8 visualizations and compares both models."
   ]
  },
  {
   "cell_type": "code",
   "execution_count": null,
   "metadata": {},
   "outputs": [],
   "source": [
    "# Generate complete evaluation report\n",
    "results = evaluate.generate_full_report(\n",
    "    scraped_model_path=\"../models/scraped_model.pkl\",\n",
    "    api_model_path=\"../models/api_model.pkl\",\n",
    "    scraped_data_path=\"../data/processed/scraped_processed.csv\",\n",
    "    api_data_path=\"../data/processed/api_processed.csv\",\n",
    "    output_dir=\"../reports/figures\"\n",
    ")"
   ]
  },
  {
   "cell_type": "markdown",
   "metadata": {},
   "source": [
    "## Detailed Results"
   ]
  },
  {
   "cell_type": "code",
   "execution_count": null,
   "metadata": {},
   "outputs": [],
   "source": [
    "print(\"\\n\" + \"=\"*80)\n",
    "print(\"DETAILED RESULTS\")\n",
    "print(\"=\"*80)\n",
    "\n",
    "print(\"\\nScraped Model (Predicting Views):\")\n",
    "print(f\"  Training R-squared: {results['scraped_metrics']['train_r2']:.4f}\")\n",
    "print(f\"  Test R-squared: {results['scraped_metrics']['test_r2']:.4f}\")\n",
    "print(f\"  Test RMSE: {results['scraped_metrics']['test_rmse']:,.2f}\")\n",
    "print(f\"  Test MAE: {results['scraped_metrics']['test_mae']:,.2f}\")\n",
    "\n",
    "print(\"\\nAPI Model (Predicting Engagement Rate):\")\n",
    "print(f\"  Training R-squared: {results['api_metrics']['train_r2']:.4f}\")\n",
    "print(f\"  Test R-squared: {results['api_metrics']['test_r2']:.4f}\")\n",
    "print(f\"  Test RMSE: {results['api_metrics']['test_rmse']:.6f}\")\n",
    "print(f\"  Test MAE: {results['api_metrics']['test_mae']:.6f}\")\n",
    "\n",
    "print(\"\\nTop 5 Features for Scraped Model:\")\n",
    "if results['scraped_importance'] is not None:\n",
    "    for idx, row in results['scraped_importance'].head(5).iterrows():\n",
    "        print(f\"  {idx+1}. {row['feature']:<30} {row['importance']:.4f}\")\n",
    "\n",
    "print(\"\\nTop 5 Features for API Model:\")\n",
    "if results['api_importance'] is not None:\n",
    "    for idx, row in results['api_importance'].head(5).iterrows():\n",
    "        print(f\"  {idx+1}. {row['feature']:<30} {row['importance']:.4f}\")\n",
    "\n",
    "print(\"\\n\" + \"=\"*80)\n",
    "print(\"EVALUATION COMPLETE\")\n",
    "print(\"=\"*80)\n",
    "print(\"\\nAll visualizations saved to: reports/figures/\")\n",
    "print(\"\\nGenerated visualizations:\")\n",
    "print(\"  1. model_comparison.png\")\n",
    "print(\"  2. scraped_actual_vs_predicted.png\")\n",
    "print(\"  3. api_actual_vs_predicted.png\")\n",
    "print(\"  4. scraped_residuals.png\")\n",
    "print(\"  5. api_residuals.png\")\n",
    "print(\"  6. scraped_feature_importance.png\")\n",
    "print(\"  7. api_feature_importance.png\")\n",
    "print(\"  8. engagement_trends.png\")\n",
    "print(\"=\"*80)"
   ]
  },
  {
   "cell_type": "markdown",
   "metadata": {},
   "source": [
    "## Display Visualizations\n",
    "\n",
    "View the generated plots in the notebook."
   ]
  },
  {
   "cell_type": "code",
   "execution_count": null,
   "metadata": {},
   "outputs": [],
   "source": [
    "from IPython.display import Image, display\n",
    "\n",
    "# Display key visualizations\n",
    "figures_dir = \"../reports/figures\"\n",
    "key_figures = [\n",
    "    (\"Model Comparison\", \"model_comparison.png\"),\n",
    "    (\"Scraped Model: Actual vs Predicted\", \"scraped_actual_vs_predicted.png\"),\n",
    "    (\"API Model: Actual vs Predicted\", \"api_actual_vs_predicted.png\"),\n",
    "    (\"Scraped Feature Importance\", \"scraped_feature_importance.png\"),\n",
    "    (\"API Feature Importance\", \"api_feature_importance.png\"),\n",
    "    (\"Engagement Trends\", \"engagement_trends.png\")\n",
    "]\n",
    "\n",
    "for title, filename in key_figures:\n",
    "    path = os.path.join(figures_dir, filename)\n",
    "    if os.path.exists(path):\n",
    "        print(f\"\\n{title}:\")\n",
    "        print(\"=\"*60)\n",
    "        display(Image(filename=path, width=800))\n",
    "    else:\n",
    "        print(f\"Warning: {filename} not found\")"
   ]
  }
 ],
 "metadata": {
  "kernelspec": {
   "display_name": "Python 3",
   "language": "python",
   "name": "python3"
  }
 },
 "nbformat": 4,
 "nbformat_minor": 4
}
