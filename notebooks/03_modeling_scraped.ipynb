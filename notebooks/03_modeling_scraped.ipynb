{
 "cells": [
  {
   "cell_type": "markdown",
   "metadata": {},
   "source": [
    "# Notebook 03: Model Training on Scraped Data\n",
    "\n",
    "## Objective\n",
    "Train Random Forest regression model to predict video view count.\n",
    "\n",
    "**Features:** duration, time since upload, title characteristics, view velocity, category flags\n",
    "\n",
    "**Target:** View count"
   ]
  },
  {
   "cell_type": "code",
   "execution_count": null,
   "metadata": {},
   "outputs": [],
   "source": [
    "import sys\n",
    "import os\n",
    "\n",
    "# Add source directory to path\n",
    "sys.path.append(os.path.abspath(os.path.join(os.getcwd(), '..')))\n",
    "\n",
    "from src import train\n",
    "\n",
    "print(\"=\"*80)\n",
    "print(\"MODEL 1: SCRAPED DATA\")\n",
    "print(\"=\"*80)"
   ]
  },
  {
   "cell_type": "markdown",
   "metadata": {},
   "source": [
    "## Train Model"
   ]
  },
  {
   "cell_type": "code",
   "execution_count": null,
   "metadata": {},
   "outputs": [],
   "source": [
    "# Train Random Forest model on scraped data\n",
    "model_package, X_test, y_test, y_pred = train.train_scraped_model(\n",
    "    filename=\"../data/processed/scraped_processed.csv\",\n",
    "    target=\"views\",\n",
    "    model_type=\"random_forest\",\n",
    "    save_path=\"../models/scraped_model.pkl\"\n",
    ")"
   ]
  },
  {
   "cell_type": "markdown",
   "metadata": {},
   "source": [
    "## Results Summary"
   ]
  },
  {
   "cell_type": "code",
   "execution_count": null,
   "metadata": {},
   "outputs": [],
   "source": [
    "print(\"\\n\" + \"=\"*80)\n",
    "print(\"MODEL TRAINING COMPLETE\")\n",
    "print(\"=\"*80)\n",
    "print(f\"\\nModel saved to: models/scraped_model.pkl\")\n",
    "print(f\"\\nPerformance Metrics:\")\n",
    "print(f\"  Training R-squared: {model_package['metrics']['train_r2']:.4f}\")\n",
    "print(f\"  Test R-squared: {model_package['metrics']['test_r2']:.4f}\")\n",
    "print(f\"  Test RMSE: {model_package['metrics']['test_rmse']:,.2f}\")\n",
    "print(f\"  Test MAE: {model_package['metrics']['test_mae']:,.2f}\")\n",
    "print(\"\\nNext: Run notebook 04 to train API model\")\n",
    "print(\"=\"*80)"
   ]
  }
 ],
 "metadata": {
  "kernelspec": {
   "display_name": "Python 3",
   "language": "python",
   "name": "python3"
  }
 },
 "nbformat": 4,
 "nbformat_minor": 4
}
