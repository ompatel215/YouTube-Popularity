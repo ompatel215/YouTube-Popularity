{
 "cells": [
  {
   "cell_type": "markdown",
   "metadata": {},
   "source": [
    "# Notebook 04: Model Training on API Data\n",
    "\n",
    "## Objective\n",
    "Train Random Forest regression model to predict engagement rate.\n",
    "\n",
    "**Features:** duration, time since upload, title/description characteristics, tags, category, view velocity\n",
    "\n",
    "**Target:** Engagement rate (likes + comments) / views"
   ]
  },
  {
   "cell_type": "code",
   "execution_count": null,
   "metadata": {},
   "outputs": [],
   "source": [
    "import sys\n",
    "import os\n",
    "\n",
    "# Add source directory to path\n",
    "sys.path.append(os.path.abspath(os.path.join(os.getcwd(), '..')))\n",
    "\n",
    "from src import train\n",
    "\n",
    "print(\"=\"*80)\n",
    "print(\"MODEL 2: API DATA\")\n",
    "print(\"=\"*80)"
   ]
  },
  {
   "cell_type": "markdown",
   "metadata": {},
   "source": [
    "## Train Model"
   ]
  },
  {
   "cell_type": "code",
   "execution_count": null,
   "metadata": {},
   "outputs": [],
   "source": [
    "# Train Random Forest model on API data\n",
    "model_package, X_test, y_test, y_pred = train.train_api_model(\n",
    "    filename=\"../data/processed/api_processed.csv\",\n",
    "    target=\"engagement_rate\",\n",
    "    model_type=\"random_forest\",\n",
    "    save_path=\"../models/api_model.pkl\"\n",
    ")"
   ]
  },
  {
   "cell_type": "markdown",
   "metadata": {},
   "source": [
    "## Results Summary"
   ]
  },
  {
   "cell_type": "code",
   "execution_count": null,
   "metadata": {},
   "outputs": [],
   "source": [
    "print(\"\\n\" + \"=\"*80)\n",
    "print(\"MODEL TRAINING COMPLETE\")\n",
    "print(\"=\"*80)\n",
    "print(f\"\\nModel saved to: models/api_model.pkl\")\n",
    "print(f\"\\nPerformance Metrics:\")\n",
    "print(f\"  Training R-squared: {model_package['metrics']['train_r2']:.4f}\")\n",
    "print(f\"  Test R-squared: {model_package['metrics']['test_r2']:.4f}\")\n",
    "print(f\"  Test RMSE: {model_package['metrics']['test_rmse']:.6f}\")\n",
    "print(f\"  Test MAE: {model_package['metrics']['test_mae']:.6f}\")\n",
    "print(\"\\nNext: Run notebook 05 for evaluation and visualization\")\n",
    "print(\"=\"*80)"
   ]
  }
 ],
 "metadata": {
  "kernelspec": {
   "display_name": "Python 3",
   "language": "python",
   "name": "python3"
  }
 },
 "nbformat": 4,
 "nbformat_minor": 4
}
